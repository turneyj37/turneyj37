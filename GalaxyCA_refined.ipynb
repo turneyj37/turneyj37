{
  "nbformat": 4,
  "nbformat_minor": 0,
  "metadata": {
    "colab": {
      "name": "GalaxyCA_refined.ipynb",
      "provenance": [],
      "collapsed_sections": [],
      "toc_visible": true,
      "include_colab_link": true
    },
    "kernelspec": {
      "name": "python3",
      "display_name": "Python 3"
    }
  },
  "cells": [
    {
      "cell_type": "markdown",
      "metadata": {
        "id": "view-in-github",
        "colab_type": "text"
      },
      "source": [
        "<a href=\"https://colab.research.google.com/github/turneyj37/turneyj37/blob/main/GalaxyCA_refined.ipynb\" target=\"_parent\"><img src=\"https://colab.research.google.com/assets/colab-badge.svg\" alt=\"Open In Colab\"/></a>"
      ]
    },
    {
      "cell_type": "markdown",
      "metadata": {
        "id": "9h5Cg5eXGVKn"
      },
      "source": [
        "# Step 1 - Outlining the Initial Parameters\n",
        "\n",
        "For this simulation I am going to be using a salpeter IMF:\n",
        "\n",
        "$\\xi(M) = \\xi_0 (\\dfrac{M}{M_{sun}})^{-2.35}$\n",
        "\n",
        "This probability density function follows a power law that is accurate for any mass equal to 0.5 solar masses or higher.\n",
        "\n",
        "Given that the upper mass limit for star formation is thought to be 150 solar masses, I will operate between these 2 limits.\n",
        "\n",
        "$0.5M_{sun} < M < 150M_{sun}$\n",
        "\n",
        "For this piece of work, I will also use the following parameters:\n",
        "\n",
        "- The total initial mass of the gas cloud = $10^{11}M_{sun}$\n",
        "- Star formation rate (SFR) only occurs for the first 1 billion years and uses all the mass\n",
        "- Therefore, star formation rate = $\\dfrac{10^{11}}{10^9}$ = $100 M_{sun} yr^{-1}$ = $\\psi_0$\n",
        "- Stars only contribute to the galaxies number count, mass and luminosity during the main sequence of their life time and their gas mass is not recycled."
      ]
    },
    {
      "cell_type": "code",
      "metadata": {
        "id": "ShX43-Y6IHju"
      },
      "source": [
        "### IMPORT PACKAGES ###\n",
        "\n",
        "import numpy as np\n",
        "import matplotlib.pyplot as plt\n",
        "import scipy.optimize as sp\n",
        "import astropy.modeling.models as ap\n",
        "import pandas as pd\n",
        "from scipy.integrate import quad\n",
        "\n",
        "### OUTLINE PARAMETERS ###\n",
        "\n",
        "M_gas = 10**11\n",
        "SFR = 100"
      ],
      "execution_count": null,
      "outputs": []
    },
    {
      "cell_type": "markdown",
      "metadata": {
        "id": "-U3FH0LbI6mc"
      },
      "source": [
        "# Step 2 - Calculating Xi Zero\n",
        "\n",
        "In the equation for the IMF, there is a constant that is determined by the stellar density and acts as a scaling factor for all subsequent calculations.\n",
        "\n",
        "Given that I know the SFR and upper mass limit, I can work out the total mass formed in the first instance of the galaxies existence and work out the constant, Xi zero, from there.\n",
        "\n",
        "$\\tau_{ms} = 10Gyr(\\dfrac{M}{M_{sun}})^{-2.5}$\n",
        "\n",
        "If I sub in the upper limit for mass here, I can work out the most amount of time that could elapse and have no stellar deaths during. This means that the total mass is given by:\n",
        "\n",
        "$M_{tot} = SFR*\\tau_gal$\n",
        "\n",
        "where,\n",
        "\n",
        "$\\tau_{ms}(150M_{sun}) = \\tau_{gal}$"
      ]
    },
    {
      "cell_type": "code",
      "metadata": {
        "colab": {
          "base_uri": "https://localhost:8080/"
        },
        "id": "rGYctXQ5KS9r",
        "outputId": "691d28bd-0ce4-459b-dd02-87ca389ef15a"
      },
      "source": [
        "def lifetime(M):\n",
        "  return (10**10)*((M)**(-2.5))\n",
        "\n",
        "print('The main sequence life time of a 150 solar mass star is {:.3} years'.format(lifetime(150)))"
      ],
      "execution_count": null,
      "outputs": [
        {
          "output_type": "stream",
          "text": [
            "The main sequence life time of a 150 solar mass star is 3.63e+04 years\n"
          ],
          "name": "stdout"
        }
      ]
    },
    {
      "cell_type": "markdown",
      "metadata": {
        "id": "QzahSwFXKxAj"
      },
      "source": [
        "By subbing this into the equation for total mass, I can then calculate Xi zero.\n",
        "\n",
        "$M_{tot} = \\int_{0.5M_{sun}}^{150M_{sun}} N(M) M dM$\n",
        "\n",
        "where N(M) is simply the IMF multiplied by the star formation rate and elapsed time.\n",
        "\n",
        "$N(M) = \\psi_0 \\tau_{ms} \\xi (M)$\n",
        "\n",
        "Therefore, the total mass can be re-written as:\n",
        "\n",
        "$M_{tot} = \\int_{0.5M_{sun}}^{150M_{sun}} \\psi_0 \\tau_{ms} \\xi (M) M dM = \\psi_0 \\tau_{ms} \\xi_0 \\int_{0.5M_{sun}}^{150M_{sun}} \\left( \\dfrac{M}{M_{sun}} \\right)^{-2.35}M = \\psi_0 \\tau_{ms} \\xi_0 M_{sun} \\int_{0.5}^{150} M^{-1.35}$\n",
        "\n",
        "In the final line I have prematurely taken out solar mass unit that would stem from multiplying by the mass. \n",
        "\n",
        "$M_{tot} = \\psi_0 \\tau_{ms} = \\psi_0 \\tau_{ms} \\xi_0 M_{sun} \\int_{0.5}^{150} M^{-1.35}$\n",
        "\n",
        "The time and SFR can cancel out.\n",
        "\n",
        "$1 = \\xi_0 M_{sun} \\int_{0.5}^{150} M^{-1.35} = \\dfrac{\\xi_0 M_{sun}}{0.35}(0.5^{-0.35}-150^{-0.35})$"
      ]
    },
    {
      "cell_type": "code",
      "metadata": {
        "colab": {
          "base_uri": "https://localhost:8080/"
        },
        "id": "trvvG-FgPrN7",
        "outputId": "0038015d-6c98-438d-a785-526b53311547"
      },
      "source": [
        "RHS = ((0.5**(-0.35))-(150**(-0.35)))/0.35\n",
        "\n",
        "print('The right hand side equals {:.4} xi zero solar masses'.format(RHS))"
      ],
      "execution_count": null,
      "outputs": [
        {
          "output_type": "stream",
          "text": [
            "The right hand side equals 3.147 xi zero solar masses\n"
          ],
          "name": "stdout"
        }
      ]
    },
    {
      "cell_type": "markdown",
      "metadata": {
        "id": "1_8koo1gQJ7o"
      },
      "source": [
        "$\\xi_0 M_{sun} = \\dfrac{1}{3.147}$"
      ]
    },
    {
      "cell_type": "code",
      "metadata": {
        "colab": {
          "base_uri": "https://localhost:8080/"
        },
        "id": "BRv5Y1CcQWoo",
        "outputId": "0eff096d-adc0-494b-c813-6db56fdcbd3e"
      },
      "source": [
        "xi = 1/3.147\n",
        "\n",
        "print('The value of xi zero is {:.3} solar masses'.format(xi))"
      ],
      "execution_count": null,
      "outputs": [
        {
          "output_type": "stream",
          "text": [
            "The value of xi zero is 0.318 solar masses\n"
          ],
          "name": "stdout"
        }
      ]
    },
    {
      "cell_type": "markdown",
      "metadata": {
        "id": "u3n542KZRClq"
      },
      "source": [
        "# Step 3 - Defining the Eras\n",
        "\n",
        "The simplest way to model this galaxy will be to model the 2 time periods separately and merge them together. The 2 time periods are:\n",
        "\n",
        "1) The first billion years - The star formation period.\n",
        "\n",
        "2) The remaining 11 billion years - The period of no star formation.\n",
        "\n",
        "To model, I will calcualte the total luminosity of the galaxy at set intervals. The time period selected must be less than or equal to the shortest life span of any given star. This was given earlier in calculating the lifetime of the 150 solar mass star.\n",
        "\n",
        "$\\Delta \\tau = \\tau_{ms}(150) < 3.63 * 10^{4} yrs = 2*10^{-4} yrs$\n",
        "\n",
        "I chose this number so it would fit evenly into the 12 billion year life time of the galaxy."
      ]
    },
    {
      "cell_type": "code",
      "metadata": {
        "colab": {
          "base_uri": "https://localhost:8080/"
        },
        "id": "2xHb1yoFS_m3",
        "outputId": "a86ff3d9-a5be-4943-e5e2-c7863660e80b"
      },
      "source": [
        "time_stamps = []\n",
        "\n",
        "for i in range (0,12*10**9,2*10**4):\n",
        "  time_stamps.append(i)\n",
        "\n",
        "print('This gives a total of {:.0f} data points'.format(len(time_stamps)))"
      ],
      "execution_count": null,
      "outputs": [
        {
          "output_type": "stream",
          "text": [
            "This gives a total of 600000 data points\n"
          ],
          "name": "stdout"
        }
      ]
    },
    {
      "cell_type": "markdown",
      "metadata": {
        "id": "TMM9nTsDT3YA"
      },
      "source": [
        "## The Star Formation Period and Critical Mass\n",
        "\n",
        "During this time the calculations are a little bit more complicated at each time stamp as there are stars dying and being born.\n",
        "\n",
        "To account for this, I can use 2 separate power laws relating to a critical mass. The critical mass is the oldest largest possible mass to have been born given the galaxies age at each time stamp. It is calculated by subbing in the galaxies age in to the main sequence life time and finding M.\n",
        "\n",
        "$M_{crit} = \\sqrt[-2.5]{\\dfrac{\\tau_{gal}}{10^{10}}}M_{sun}$"
      ]
    },
    {
      "cell_type": "code",
      "metadata": {
        "colab": {
          "base_uri": "https://localhost:8080/",
          "height": 295
        },
        "id": "dTL6cvW0Vd5Z",
        "outputId": "5ab5dec9-77a1-4e26-f34c-02eabb905da9"
      },
      "source": [
        "Mc = []\n",
        "\n",
        "def critical_mass(tau):\n",
        "  return (tau/(10**10))**(-1/2.5)\n",
        "\n",
        "for i in time_stamps:\n",
        "  if i > 0:\n",
        "    Mc.append(critical_mass(i))\n",
        "\n",
        "plt.plot(time_stamps[1:],Mc)\n",
        "plt.ylim(0,160)\n",
        "plt.xlabel('Galactic Age / yrs')\n",
        "plt.ylabel('Critical Mass / $M_{sun}$')\n",
        "plt.title(\"Critical Mass as a Function of Time\")\n",
        "plt.show()"
      ],
      "execution_count": null,
      "outputs": [
        {
          "output_type": "display_data",
          "data": {
            "image/png": "[encoded data removed]",
            "text/plain": [
              "<Figure size 432x288 with 1 Axes>"
            ]
          },
          "metadata": {
            "tags": [],
            "needs_background": "light"
          }
        }
      ]
    },
    {
      "cell_type": "code",
      "metadata": {
        "colab": {
          "base_uri": "https://localhost:8080/"
        },
        "id": "vej5Anp4yzLA",
        "outputId": "be3c13c9-4492-421e-8959-7e77f1cef869"
      },
      "source": [
        "print(critical_mass(2*10**9))"
      ],
      "execution_count": null,
      "outputs": [
        {
          "output_type": "stream",
          "text": [
            "1.9036539387158786\n"
          ],
          "name": "stdout"
        }
      ]
    },
    {
      "cell_type": "markdown",
      "metadata": {
        "id": "TzTSF4BYYBN2"
      },
      "source": [
        "The graph above shows just how short lived massive stars are. This means that once the star formation period has ended, I will expect to see high mass stars die off rapidly.\n",
        "\n",
        "What this means in terms of calculating the luminosity is that there are 2 power laws in calculating the contribution.\n",
        "\n",
        "Those above the critical mass are far more likely to have died so follow a stepper curve.\n",
        "\n",
        "1) Above the critical mass: $M > M_{crit}$\n",
        "\n",
        "$N(M) = \\psi_0 \\xi_0 10Gyr (M)^{-4.85}$\n",
        "\n",
        "2) Below the critical mass: $M < M_{crit}$\n",
        "\n",
        "$N(M) = \\psi_0 \\xi_0 \\tau_{gal} (M)^{-2.35}$\n",
        "\n",
        "Below the critical mass the power law is unchanged from the IMF as not enough time has elapsed for these initial stars to die off and disappear. \n"
      ]
    },
    {
      "cell_type": "markdown",
      "metadata": {
        "id": "y4K5k20YalcA"
      },
      "source": [
        "## The Luminosity Functions\n",
        "\n",
        "The luminosity of a star follows a power law depending on the mass range in question. They all follow the following formula:\n",
        "\n",
        "$L(M) = L_{sun} \\left( \\dfrac{M}{M_{sun}} \\right)^{\\alpha}$\n",
        "\n",
        "Where alpha varies with the mass range in question.\n",
        "\n",
        "- $\\alpha = 5$ for $M < 1M_{sun}$\n",
        "- $\\alpha = 3.9$ for $1M_{sun} < M < 10M_{sun}$\n",
        "- $\\alpha = 3.5$ for $M > 10M_{sun}$\n",
        "\n",
        "These power laws suggests that truly massive stars will dominate the luminosity profile."
      ]
    },
    {
      "cell_type": "markdown",
      "metadata": {
        "id": "11gdJRa1gQ2T"
      },
      "source": [
        "# Step 4 - Plotting the Luminosity Function for the First Billion Years\n",
        "\n",
        "Now to piece together all the initial parameters and conditions. The overall Luminosity is given by:\n",
        "\n",
        "$L_{gal} = \\int_{0.5}^{150} L_{tot}(M) N(M) dM$\n",
        "\n",
        "This equation will have to be broken up into 3 separate integrals depending on the luminosity power law.\n",
        "\n",
        "$L_{gal} = \\left( \\int_{0.5}^{1} M^{5} N(M) dM \\right)+ \\left( \\int_{1}^{10} M^{3.9} N(M) dM \\right) + \\left( \\int_{10}^{150} M^{3.5} N(M) dM \\right) = \\xi_0 \\psi_0 \\tau{gal} \\left[ \\left( \\int_{0.5}^{1} M^{5} M^{-2.35} dM \\right)+ \\left( \\int_{1}^{10} M^{3.9} M^{-2.35} dM \\right) + \\left( \\int_{10}^{150} M^{3.5} M^{-2.35} dM \\right)  \\right]$\n",
        "\n",
        "This will be further broken up depending on the critical mass at each given time as $N(M) \\propto M^{-4.85}$ when above the critical mass.\n",
        "\n",
        "To begin I will first define all the possible prifiles of luminosity and critical mass combined:"
      ]
    },
    {
      "cell_type": "code",
      "metadata": {
        "id": "Vqn3A4aujvK4"
      },
      "source": [
        "def lum_low_below(M,a,b):\n",
        "  return (M**(5))*a*b*(M**(-2.35))\n",
        "\n",
        "def lum_low_above(M,a,b):\n",
        "  return (M**(5))*a*b*(M**(-4.85))\n",
        "\n",
        "def lum_med_below(M,a,b):\n",
        "  return (M**(3.9))*a*b*(M**(-2.35))\n",
        "\n",
        "def lum_med_above(M,a,b):\n",
        "  return (M**(3.9))*a*b*(M**(-4.85))\n",
        "\n",
        "def lum_high_below(M,a,b):\n",
        "  return (M**(3.5))*a*b*(M**(-2.35))\n",
        "\n",
        "def lum_high_above(M,a,b):\n",
        "  return (M**(3.5))*a*b*(M**(-4.85))\n"
      ],
      "execution_count": null,
      "outputs": []
    },
    {
      "cell_type": "code",
      "metadata": {
        "id": "9EPZrxZPUn5G"
      },
      "source": [
        "# Now to set up every time stamp as the age of the gal at that time.\n",
        "\n",
        "L=[0]\n",
        "\n",
        "for i in range(0,len(time_stamps)):\n",
        "  if time_stamps[i] > 0 and time_stamps[i] <=10**9:\n",
        "    tau_gal = time_stamps[i]\n",
        "    M_crit = critical_mass(tau_gal)\n",
        "\n",
        "    if M_crit > 10:\n",
        "      L1 = tau_gal*quad(lum_low_below,0.5,1,args=(xi,SFR))[0]  \n",
        "      L2 = tau_gal*quad(lum_med_below,1,10,args=(xi,SFR))[0]\n",
        "      L3 = tau_gal*quad(lum_high_below,10,M_crit,args=(xi,SFR))[0]\n",
        "      L4 = (10**10)*quad(lum_high_above,M_crit,150,args=(xi,SFR))[0]\n",
        "\n",
        "      L.append(L1+L2+L3+L4)\n",
        "\n",
        "    elif M_crit > 1:\n",
        "      L1 = tau_gal*quad(lum_low_below,0.5,1,args=(xi,SFR))[0]  \n",
        "      L2 = tau_gal*quad(lum_med_below,1,M_crit,args=(xi,SFR))[0]\n",
        "      L3 = (10**10)*quad(lum_med_above,M_crit,10,args=(xi,SFR))[0]\n",
        "      L4 = (10**10)*quad(lum_high_above,10,150,args=(xi,SFR))[0]\n",
        "\n",
        "      L.append(L1+L2+L3+L4)\n",
        "\n",
        "    else:\n",
        "      L1 = tau_gal*quad(lum_low_below,0.5,M_crit,args=(xi,SFR))[0]  \n",
        "      L2 = (10**10)*quad(lum_low_above,M_crit,1,args=(xi,SFR))[0]\n",
        "      L3 = (10**10)*quad(lum_med_above,1,10,args=(xi,SFR))[0]\n",
        "      L4 = (10**10)*quad(lum_high_above,10,150,args=(xi,SFR))[0]\n",
        "\n",
        "      L.append(L1+L2+L3+L4)    \n"
      ],
      "execution_count": null,
      "outputs": []
    },
    {
      "cell_type": "code",
      "metadata": {
        "colab": {
          "base_uri": "https://localhost:8080/",
          "height": 295
        },
        "id": "6-XW61kunRSm",
        "outputId": "274847a0-ba96-4e7f-a543-de494d6a0b77"
      },
      "source": [
        "plt.plot(time_stamps[0:50001],L)\n",
        "plt.xlabel('Galactic Age / yrs')\n",
        "plt.ylabel('Luminosity / $L_{sun}$')\n",
        "plt.title('Luminosity Profile for the First Billion Years')\n",
        "plt.show()"
      ],
      "execution_count": null,
      "outputs": [
        {
          "output_type": "display_data",
          "data": {
            "image/png": "[encoded data removed]",
            "text/plain": [
              "<Figure size 432x288 with 1 Axes>"
            ]
          },
          "metadata": {
            "tags": [],
            "needs_background": "light"
          }
        }
      ]
    },
    {
      "cell_type": "markdown",
      "metadata": {
        "id": "fnTaXK0UWeM3"
      },
      "source": [
        "# Step 5 - Calculating the Post Star Formation Luminosity\n",
        "\n",
        "To work out the post star forming luminosity is a little tricky. The luminosity will begin to drop but it must take into account the state of the galaxy at the moment star formation ended. At the moment star formation halts, stars only begin to die.\n",
        "\n",
        "At $\\tau = 10^9 yrs$:\n",
        "\n",
        "We have a critical mass of 2.51 solar masses. If we now exclude the star formation rate at this time and use the following equation to work out the luminosity:\n",
        "\n",
        "$L = \\xi_0 \\left[ \\int^{M_{crit}}_{0.5}M^{\\alpha}M^{-2.35} \\right]+\\left[ \\int^{150}_{M_{crit}}M^{\\alpha}M^{-4.85} \\right] $\n",
        "\n",
        "Given that we know the total luminosity at this time, we can work a new value for xi, which will scale all values in the post star forming era, accounting for the prior conditions.\n",
        "\n"
      ]
    },
    {
      "cell_type": "code",
      "metadata": {
        "colab": {
          "base_uri": "https://localhost:8080/"
        },
        "id": "522nxx6XhZoo",
        "outputId": "520af347-6551-429d-f3d2-b4d0cf6f413f"
      },
      "source": [
        "print('The value for luminosity at 1 billion years is {:.3} solar luminosities'.format(L[-1]))\n",
        "print('The value for critical mass at 1 billion years is {:.3} solar masses'.format(critical_mass(10**9)))"
      ],
      "execution_count": null,
      "outputs": [
        {
          "output_type": "stream",
          "text": [
            "The value for luminosity at 1 billion years is 8.5e+11 solar luminosities\n",
            "The value for critical mass at 1 billion years is 2.51 solar masses\n"
          ],
          "name": "stdout"
        }
      ]
    },
    {
      "cell_type": "markdown",
      "metadata": {
        "id": "odpIU-kNh54f"
      },
      "source": [
        "I will have to work out the integrals for the 3 values of alpha and then split the medium range integral in 2, due to the critical mass limit. If i divide the total luminosity by the sum of these luminosities, I will get my new xi value.\n"
      ]
    },
    {
      "cell_type": "code",
      "metadata": {
        "colab": {
          "base_uri": "https://localhost:8080/"
        },
        "id": "wZiMOP4BiZj4",
        "outputId": "1996bec6-a140-41e6-87cd-6ec09f6c58f8"
      },
      "source": [
        "M_crit = 2.51\n",
        "\n",
        "# I changed the arguemnets to equal 1 rahter than write out new definitions\n",
        "\n",
        "I1 = quad(lum_low_below,0.5,1,args=(1,1))[0]  \n",
        "I2 = quad(lum_med_below,1,M_crit,args=(1,1))[0]\n",
        "I3 = quad(lum_med_above,M_crit,10,args=(1,1))[0]\n",
        "I4 = quad(lum_high_above,10,150,args=(1,1))[0]\n",
        "\n",
        "I = I1 + I2 + I3 + I4\n",
        "L_ref = L[-1]\n",
        "\n",
        "print('The sum of these integrals is {:.3}'.format(I))\n",
        "\n",
        "xi_new = L_ref/I\n",
        "\n",
        "print('The new value for xi is {:.3}'.format(xi_new))"
      ],
      "execution_count": null,
      "outputs": [
        {
          "output_type": "stream",
          "text": [
            "The sum of these integrals is 6.24\n",
            "The new value for xi is 1.36e+11\n"
          ],
          "name": "stdout"
        }
      ]
    },
    {
      "cell_type": "markdown",
      "metadata": {
        "id": "l8jE2anqlWO5"
      },
      "source": [
        "With new profile constant, I can work out the remaining values of Luminosity."
      ]
    },
    {
      "cell_type": "code",
      "metadata": {
        "id": "byx0yYjlleHJ"
      },
      "source": [
        "def lum_low_below(M,a):\n",
        "  return (M**(5))*a*(M**(-2.35))\n",
        "\n",
        "def lum_low_above(M,a):\n",
        "  return (M**(5))*a*(M**(-4.85))\n",
        "\n",
        "def lum_med_below(M,a):\n",
        "  return (M**(3.9))*a*(M**(-2.35))\n",
        "\n",
        "def lum_med_above(M,a):\n",
        "  return (M**(3.9))*a*(M**(-4.85))\n",
        "\n",
        "def lum_high_below(M,a):\n",
        "  return (M**(3.5))*a*(M**(-2.35))\n",
        "\n",
        "def lum_high_above(M,a):\n",
        "  return (M**(3.5))*a*(M**(-4.85))\n",
        "\n",
        "# I can remove b as I am no only concerned with the value of xi\n",
        "# SFR contributes nothing.\n",
        "\n",
        "xi = xi_new\n",
        "\n",
        "for i in range(0,len(time_stamps)):\n",
        "  if time_stamps[i] > 10**9:\n",
        "    tau_gal = time_stamps[i]\n",
        "    M_crit = critical_mass(tau_gal)\n",
        "\n",
        "    if M_crit > 10:\n",
        "      L1 = quad(lum_low_below,0.5,1,args=(xi))[0]  \n",
        "      L2 = quad(lum_med_below,1,10,args=(xi))[0]\n",
        "      L3 = quad(lum_high_below,10,M_crit,args=(xi))[0]\n",
        "      L4 = quad(lum_high_above,M_crit,150,args=(xi))[0]\n",
        "\n",
        "      L.append(L1+L2+L3+L4)\n",
        "\n",
        "    elif M_crit > 1:\n",
        "      L1 = quad(lum_low_below,0.5,1,args=(xi))[0]  \n",
        "      L2 = quad(lum_med_below,1,M_crit,args=(xi))[0]\n",
        "      L3 = quad(lum_med_above,M_crit,10,args=(xi))[0]\n",
        "      L4 = quad(lum_high_above,10,150,args=(xi))[0]\n",
        "\n",
        "      L.append(L1+L2+L3+L4)\n",
        "\n",
        "    else:\n",
        "      L1 = quad(lum_low_below,0.5,M_crit,args=(xi))[0]  \n",
        "      L2 = quad(lum_low_above,M_crit,1,args=(xi))[0]\n",
        "      L3 = quad(lum_med_above,1,10,args=(xi))[0]\n",
        "      L4 = quad(lum_high_above,10,150,args=(xi))[0]\n",
        "\n",
        "      L.append(L1+L2+L3+L4)\n",
        "\n"
      ],
      "execution_count": null,
      "outputs": []
    },
    {
      "cell_type": "code",
      "metadata": {
        "colab": {
          "base_uri": "https://localhost:8080/",
          "height": 295
        },
        "id": "4ndY_0TFmfpf",
        "outputId": "a3ceac13-b477-485d-df9b-854a543f2595"
      },
      "source": [
        "plt.plot(time_stamps,L)\n",
        "plt.xlabel('Galactic Age / yrs')\n",
        "plt.ylabel('Luminosity / $L_{sun}$')\n",
        "plt.title('Luminosity Profile of the Model Galaxy')\n",
        "plt.show()"
      ],
      "execution_count": null,
      "outputs": [
        {
          "output_type": "display_data",
          "data": {
            "image/png": "[encoded data removed]",
            "text/plain": [
              "<Figure size 432x288 with 1 Axes>"
            ]
          },
          "metadata": {
            "tags": [],
            "needs_background": "light"
          }
        }
      ]
    },
    {
      "cell_type": "markdown",
      "metadata": {
        "id": "S0r2Q1qArWE2"
      },
      "source": [
        "# Step 6 - Absolute V Magnitude of the Galaxy\n",
        "\n"
      ]
    },
    {
      "cell_type": "markdown",
      "metadata": {
        "id": "mWp76kWsJcrK"
      },
      "source": [
        "Given that:\n",
        "\n",
        "$Mv_{star} = -2.5log(\\dfrac{L_{star}}{L_{sun}}) + Mv_{sun}$\n",
        "\n",
        "and that:\n",
        "\n",
        "$L \\propto M^{\\alpha}$\n",
        "\n",
        "It stands to reason that:\n",
        "\n",
        "$Mv_{star} = -2.5log(M_{star}^{\\alpha}) + Mv_{sun} = -2.5 \\alpha log(M) + Mv_{sun}$\n",
        "\n",
        "Using this logic and the data provided, I can find the approximated values for the constants."
      ]
    },
    {
      "cell_type": "code",
      "metadata": {
        "colab": {
          "base_uri": "https://localhost:8080/",
          "height": 316
        },
        "id": "oT5awylnrZzR",
        "outputId": "266c6b56-0d48-4d47-f911-1d58abd2b28e"
      },
      "source": [
        "mass = [0.8,1.0,1.25,2.0,3.0,5.0,9.0,15.0,25.0]\n",
        "Mv = [6.5,4.93,4.2,1.0,-0.5,-1.4,-3.7,-4.3,-5.2]\n",
        "\n",
        "plt.plot(mass,Mv)\n",
        "plt.xlabel('Mass of Star / $M_{sun}$')\n",
        "plt.ylabel('Absolute Magnitude')\n",
        "plt.title('Absolute Magnitude as a Function of Stellar Mass')\n",
        "plt.show()\n",
        "\n",
        "import scipy.optimize as sp\n",
        "\n",
        "def Mag(x,a,b):\n",
        "  return a*np.log(x) + b\n",
        "\n",
        "optgal, covgal = sp.curve_fit(Mag, mass, Mv)\n",
        "\n",
        "print(optgal)\n"
      ],
      "execution_count": null,
      "outputs": [
        {
          "output_type": "display_data",
          "data": {
            "image/png": "[encoded data removed]",
            "text/plain": [
              "<Figure size 432x288 with 1 Axes>"
            ]
          },
          "metadata": {
            "tags": [],
            "needs_background": "light"
          }
        },
        {
          "output_type": "stream",
          "text": [
            "[-3.384909    4.50469491]\n"
          ],
          "name": "stdout"
        }
      ]
    },
    {
      "cell_type": "markdown",
      "metadata": {
        "id": "qTizE2IPI7Ni"
      },
      "source": [
        "From the curve fit I can assume the following relationship:\n",
        "\n",
        "$Mv = -3.385log(M) + 4.505$\n",
        "\n",
        "Now that I have the absolute magnitude in terms of mass, I can multiply it by the IMF and integrate over all value of M to find the total absolute magnitude at any given time.\n",
        "\n",
        "An assumption I will be making here is that the value for alpha does not change anymore. It holds true across the entire function for all values of M. "
      ]
    },
    {
      "cell_type": "markdown",
      "metadata": {
        "id": "5Wxt3rgVNlE4"
      },
      "source": [
        "## The Magnitude of the First Billion years"
      ]
    },
    {
      "cell_type": "code",
      "metadata": {
        "id": "gonk5Ky_NXxN"
      },
      "source": [
        "def mag_low_below(M,a,b):\n",
        "  return (-3.385*np.log(M)+4.505)*a*b*(M**(-2.35))\n",
        "\n",
        "def mag_low_above(M,a,b):\n",
        "  return (-3.385*np.log(M)+4.505)*a*b*(M**(-4.85))\n",
        "\n",
        "def mag_med_below(M,a,b):\n",
        "  return (-3.385*np.log(M)+4.505)*a*b*(M**(-2.35))\n",
        "\n",
        "def mag_med_above(M,a,b):\n",
        "  return (-3.385*np.log(M)+4.505)*a*b*(M**(-4.85))\n",
        "\n",
        "def mag_high_below(M,a,b):\n",
        "  return (-3.385*np.log(M)+4.505)*a*b*(M**(-2.35))\n",
        "\n",
        "def mag_high_above(M,a,b):\n",
        "  return (-3.385*np.log(M)+4.505)*a*b*(M**(-4.85))\n",
        "\n",
        "xi = 1/3.147\n",
        "SFR = 100\n",
        "\n",
        "Mv_gal=[0]\n",
        "\n",
        "for i in range(0,len(time_stamps)):\n",
        "  if time_stamps[i] > 0 and time_stamps[i] <=10**9:\n",
        "    tau_gal = time_stamps[i]\n",
        "    M_crit = critical_mass(tau_gal)\n",
        "\n",
        "    if M_crit > 10:\n",
        "      L1 = tau_gal*quad(mag_low_below,0.5,1,args=(xi,SFR))[0]  \n",
        "      L2 = tau_gal*quad(mag_med_below,1,10,args=(xi,SFR))[0]\n",
        "      L3 = tau_gal*quad(mag_high_below,10,M_crit,args=(xi,SFR))[0]\n",
        "      L4 = (10**10)*quad(mag_high_above,M_crit,150,args=(xi,SFR))[0]\n",
        "\n",
        "      Mv_gal.append(L1+L2+L3+L4)\n",
        "\n",
        "    elif M_crit > 1:\n",
        "      L1 = tau_gal*quad(mag_low_below,0.5,1,args=(xi,SFR))[0]  \n",
        "      L2 = tau_gal*quad(mag_med_below,1,M_crit,args=(xi,SFR))[0]\n",
        "      L3 = (10**10)*quad(mag_med_above,M_crit,10,args=(xi,SFR))[0]\n",
        "      L4 = (10**10)*quad(mag_high_above,10,150,args=(xi,SFR))[0]\n",
        "\n",
        "      Mv_gal.append(L1+L2+L3+L4)\n",
        "\n",
        "    else:\n",
        "      L1 = tau_gal*quad(mag_low_below,0.5,M_crit,args=(xi,SFR))[0]  \n",
        "      L2 = (10**10)*quad(mag_low_above,M_crit,1,args=(xi,SFR))[0]\n",
        "      L3 = (10**10)*quad(mag_med_above,1,10,args=(xi,SFR))[0]\n",
        "      L4 = (10**10)*quad(mag_high_above,10,150,args=(xi,SFR))[0]\n",
        "\n",
        "      Mv_gal.append(L1+L2+L3+L4)  \n",
        "\n"
      ],
      "execution_count": null,
      "outputs": []
    },
    {
      "cell_type": "code",
      "metadata": {
        "colab": {
          "base_uri": "https://localhost:8080/"
        },
        "id": "BfH8uB-3OhO9",
        "outputId": "e7a1bfc5-8583-407a-bc47-2a49e54581b2"
      },
      "source": [
        "plt.plot(time_stamps[0:50001],Mv_gal)\n",
        "plt.xlabel('Galactic Age / yrs')\n",
        "plt.ylabel('Absolute Magnitude')\n",
        "plt.title('Absolute Magnitude for the First Billion Years')\n",
        "plt.show()"
      ],
      "execution_count": null,
      "outputs": [
        {
          "output_type": "display_data",
          "data": {
            "image/png": "[encoded data removed]",
            "text/plain": [
              "<Figure size 432x288 with 1 Axes>"
            ]
          },
          "metadata": {
            "tags": [],
            "needs_background": "light"
          }
        }
      ]
    }
  ]
}