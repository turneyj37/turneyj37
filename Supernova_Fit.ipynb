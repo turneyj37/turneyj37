{
  "nbformat": 4,
  "nbformat_minor": 0,
  "metadata": {
    "colab": {
      "name": "Supernova Fit.ipynb",
      "provenance": [],
      "collapsed_sections": [],
      "authorship_tag": "ABX9TyNjMn25AvUf7Hgahz9KGEbR",
      "include_colab_link": true
    },
    "kernelspec": {
      "name": "python3",
      "display_name": "Python 3"
    },
    "language_info": {
      "name": "python"
    }
  },
  "cells": [
    {
      "cell_type": "markdown",
      "metadata": {
        "id": "view-in-github",
        "colab_type": "text"
      },
      "source": [
        "<a href=\"https://colab.research.google.com/github/turneyj37/turneyj37/blob/main/Supernova_Fit.ipynb\" target=\"_parent\"><img src=\"https://colab.research.google.com/assets/colab-badge.svg\" alt=\"Open In Colab\"/></a>"
      ]
    },
    {
      "cell_type": "markdown",
      "metadata": {
        "id": "h1Sj6C2svzs0"
      },
      "source": [
        "The first objective of this project is to convert Arnett's equations from 1982 into Python.  The following functions are set to do just that."
      ]
    },
    {
      "cell_type": "code",
      "metadata": {
        "id": "AVU2Nh4lwH6t"
      },
      "source": [
        "### IMPORTING PACKAGES ###\n",
        "import numpy as np\n",
        "import matplotlib.pyplot as plt\n",
        "import scipy.optimize as sp\n",
        "import astropy.modeling.models as ap\n",
        "import pandas as pd\n",
        "from scipy.integrate import quad\n",
        "\n",
        "\n",
        "### First, we need to set some constants for use in these expressions:\n",
        "c = 299792458 ### the speed of light, in meters per second\n",
        "kappa = 0.6 ### an average value for the opacity, stated in Arnett, 1980\n",
        "tau_ni = 6.077 * 24 * 3600  ### the half life of nickel 56 in seconds\n",
        "e_ni = 3.42 * 10**(-6)  ### the energy released from nickel 56 decay\n",
        "\n",
        "def tau_0(k, M_e, R_0):\n",
        "  return (kappa)*(M_e)/(13.7 * c * R_0) ### The diffusion timescale;\n",
        "### R_0 is initial radius, kappa is opacity, M_e is the total mass ejected\n",
        "\n",
        "def v_sc(M_n, M_e):\n",
        "  return (2.53 * (M_n)/(M_e))**(1/2) ### The scale velocity, dependent on the \n",
        "### mass of nickel ejected and the total mass ejected\n",
        "\n",
        "def tau_m(R_0, k, M_e, M_n): \n",
        "  return ((2 * R_0 * tau_0(k, M_e, R_0))/(v_sc(M_n,M_e)))**(1/2) ### The mean timescale;\n",
        "### A geometric mean of the expansion and diffusion timescales\n",
        "\n",
        "### Now we can begin to set the parameters for the lambda function:\n",
        "\n",
        "def v_1(R_0, k, M_e, M_n):\n",
        "  return x/tau_m(R_0, k, M_e, M_n) \n",
        "### this is the equivalent of the x variable in Arnett, 1982, and\n",
        "### the x inside the function is time, which will be along the x axis come time \n",
        "### for the analysis.\n",
        "\n",
        "def v_2(R_0, k, M_e, M_n): \n",
        "  return tau_m/(2 * tau_ni)  ### this is the equivalent of the y variable in Arnett\n",
        "### 1982;\n",
        "\n",
        "def lambda_int(i):\n",
        "  return exp(-2*z*i + z**2) * 2*z\n",
        "### This expression resides inside the integral for the lambda family of curves\n",
        "### z is merely a dummy variable\n",
        "\n",
        "### Evaluating the lambda family of curves:\n",
        "def lambda_fam(x, y):\n",
        "  return exp(-(x ** 2)) * quad(lambda_int(y),0,x)\n",
        "### The limit of the integration is in fact the first variable.\n",
        "\n",
        "### Now we define the Deposition function and the coefficients:\n",
        "def D_fn_gamma(x, y, k, M_n, M_e):\n",
        "  return G_gamma(x, y, k, M_n, M_e) * (1 + 2*G_gamma(x, y, k, M_n, M_e)*\\\n",
        "          (1-G_gamma(x, y, k, M_n, M_e))*(1 - 0.75*G_gamma(x, y, k, M_n, M_e)))\n",
        "def D_fn_pos(x, y, k, M_n, M_e):\n",
        "  return G_pos(x, y, k, M_n, M_e) * (1 + 2*G_pos(x, y, k, M_n, M_e)*\\\n",
        "          (1-G_pos(x, y, k, M_n, M_e))*(1 - 0.75*G_pos(x, y, k, M_n, M_e)))\n",
        "### This is the form presented in Arnett, 1980\n",
        "\n",
        "def tau_gamma(x, y, k, M_n, M_e): ### This allows me to change x and y to investigate \n",
        "  return (5.53 * y**2)/(k * v_sc(M_n, M_e) * (0.1 +2*x*y)**2)\n",
        "def tau_pos (x, y, k, M_n, M_e):\n",
        "  return 355*tau_gamma(x, y, k, M_n, M_e)\n",
        "### These are the optical depths for photons (gamma) and positrons (pos)\n",
        " \n",
        "def G_gamma(x, y, k, M_n, M_e):\n",
        "  return tau_gamma(x, y, k, M_n, M_e)/(tau_gamma(x, y, k, M_n, M_e) + 1.6) ### I will later vary x and \n",
        "### y to investigate how the luminosity profile changes with these variables.\n",
        "def G_pos(x, y, k, M_n, M_e):\n",
        "  return tau_pos(x, y, k, M_n, M_e)/(tau_pos(x, y, k, M_n, M_e) + 1.6)\n",
        "### These are the individual factors of the deposition function\n",
        "\n",
        "### We need to include the lambda family of functions for cobalt as well:\n",
        "def lambda_co(x,y): \n",
        "  return 5.36 * 10**(-3) * exp(-0.1548*x*y)\n",
        "\n",
        "### Now we can put it all together:\n",
        "\n",
        "def lum_tot(x, y, k, M_n, M_e, R_0):\n",
        "  return e_n*M_n*lambda_fam(x,y)*D_fn_gamma(x, y, k, M_n, M_e) + \\\n",
        "  lambda_co(x,y)*(0.81*D_fn_gamma(x, y, k, M_n, M_e) + \\\n",
        "                  0.19*D_fn_pos(x, y, k, M_n, M_e))\n",
        "\n"
      ],
      "execution_count": null,
      "outputs": []
    },
    {
      "cell_type": "code",
      "metadata": {
        "id": "HgtBPRjqZQXX"
      },
      "source": [
        ""
      ],
      "execution_count": null,
      "outputs": []
    }
  ]
}